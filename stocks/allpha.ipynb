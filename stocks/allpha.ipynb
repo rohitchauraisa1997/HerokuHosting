{
 "cells": [
  {
   "cell_type": "markdown",
   "metadata": {},
   "source": [
    "## Importing Packages"
   ]
  },
  {
   "cell_type": "code",
   "execution_count": 7,
   "metadata": {},
   "outputs": [],
   "source": [
    "import pandas as pd\n",
    "import matplotlib.pyplot as plt\n",
    "from alpha_vantage.timeseries import TimeSeries"
   ]
  },
  {
   "cell_type": "markdown",
   "metadata": {},
   "source": [
    "## Storing Api KEY"
   ]
  },
  {
   "cell_type": "code",
   "execution_count": 8,
   "metadata": {},
   "outputs": [],
   "source": [
    "key = \"BE2Q31ZN1WH0WUXS\""
   ]
  },
  {
   "cell_type": "markdown",
   "metadata": {},
   "source": [
    "## Create TimeSeries Object and Make API call"
   ]
  },
  {
   "cell_type": "code",
   "execution_count": 9,
   "metadata": {},
   "outputs": [],
   "source": [
    "ts = TimeSeries(key, output_format=\"pandas\")\n",
    "data,meta = ts.get_intraday(\"TSLA\",interval=\"1min\",outputsize=\"full\")"
   ]
  },
  {
   "cell_type": "markdown",
   "metadata": {},
   "source": [
    "# Examining Data"
   ]
  },
  {
   "cell_type": "code",
   "execution_count": 10,
   "metadata": {},
   "outputs": [
    {
     "data": {
      "text/plain": [
       "{'1. Information': 'Intraday (1min) open, high, low, close prices and volume',\n",
       " '2. Symbol': 'TSLA',\n",
       " '3. Last Refreshed': '2021-03-11 20:00:00',\n",
       " '4. Interval': '1min',\n",
       " '5. Output Size': 'Full size',\n",
       " '6. Time Zone': 'US/Eastern'}"
      ]
     },
     "execution_count": 10,
     "metadata": {},
     "output_type": "execute_result"
    }
   ],
   "source": [
    "meta"
   ]
  },
  {
   "cell_type": "code",
   "execution_count": 11,
   "metadata": {},
   "outputs": [
    {
     "data": {
      "text/html": [
       "<div>\n",
       "<style scoped>\n",
       "    .dataframe tbody tr th:only-of-type {\n",
       "        vertical-align: middle;\n",
       "    }\n",
       "\n",
       "    .dataframe tbody tr th {\n",
       "        vertical-align: top;\n",
       "    }\n",
       "\n",
       "    .dataframe thead th {\n",
       "        text-align: right;\n",
       "    }\n",
       "</style>\n",
       "<table border=\"1\" class=\"dataframe\">\n",
       "  <thead>\n",
       "    <tr style=\"text-align: right;\">\n",
       "      <th></th>\n",
       "      <th>1. open</th>\n",
       "      <th>2. high</th>\n",
       "      <th>3. low</th>\n",
       "      <th>4. close</th>\n",
       "      <th>5. volume</th>\n",
       "    </tr>\n",
       "    <tr>\n",
       "      <th>date</th>\n",
       "      <th></th>\n",
       "      <th></th>\n",
       "      <th></th>\n",
       "      <th></th>\n",
       "      <th></th>\n",
       "    </tr>\n",
       "  </thead>\n",
       "  <tbody>\n",
       "    <tr>\n",
       "      <th>2021-03-11 20:00:00</th>\n",
       "      <td>698.51</td>\n",
       "      <td>698.51</td>\n",
       "      <td>698.50</td>\n",
       "      <td>698.50</td>\n",
       "      <td>3932.0</td>\n",
       "    </tr>\n",
       "    <tr>\n",
       "      <th>2021-03-11 19:59:00</th>\n",
       "      <td>698.00</td>\n",
       "      <td>698.52</td>\n",
       "      <td>698.00</td>\n",
       "      <td>698.52</td>\n",
       "      <td>4031.0</td>\n",
       "    </tr>\n",
       "    <tr>\n",
       "      <th>2021-03-11 19:58:00</th>\n",
       "      <td>698.50</td>\n",
       "      <td>698.51</td>\n",
       "      <td>698.30</td>\n",
       "      <td>698.51</td>\n",
       "      <td>1493.0</td>\n",
       "    </tr>\n",
       "    <tr>\n",
       "      <th>2021-03-11 19:57:00</th>\n",
       "      <td>698.50</td>\n",
       "      <td>698.51</td>\n",
       "      <td>698.30</td>\n",
       "      <td>698.30</td>\n",
       "      <td>3824.0</td>\n",
       "    </tr>\n",
       "    <tr>\n",
       "      <th>2021-03-11 19:56:00</th>\n",
       "      <td>698.00</td>\n",
       "      <td>698.50</td>\n",
       "      <td>698.00</td>\n",
       "      <td>698.50</td>\n",
       "      <td>3040.0</td>\n",
       "    </tr>\n",
       "    <tr>\n",
       "      <th>...</th>\n",
       "      <td>...</td>\n",
       "      <td>...</td>\n",
       "      <td>...</td>\n",
       "      <td>...</td>\n",
       "      <td>...</td>\n",
       "    </tr>\n",
       "    <tr>\n",
       "      <th>2021-02-26 04:05:00</th>\n",
       "      <td>680.00</td>\n",
       "      <td>680.00</td>\n",
       "      <td>680.00</td>\n",
       "      <td>680.00</td>\n",
       "      <td>3779.0</td>\n",
       "    </tr>\n",
       "    <tr>\n",
       "      <th>2021-02-26 04:04:00</th>\n",
       "      <td>679.21</td>\n",
       "      <td>680.00</td>\n",
       "      <td>679.21</td>\n",
       "      <td>680.00</td>\n",
       "      <td>3665.0</td>\n",
       "    </tr>\n",
       "    <tr>\n",
       "      <th>2021-02-26 04:03:00</th>\n",
       "      <td>679.00</td>\n",
       "      <td>679.00</td>\n",
       "      <td>678.99</td>\n",
       "      <td>679.00</td>\n",
       "      <td>1873.0</td>\n",
       "    </tr>\n",
       "    <tr>\n",
       "      <th>2021-02-26 04:02:00</th>\n",
       "      <td>680.00</td>\n",
       "      <td>680.00</td>\n",
       "      <td>679.89</td>\n",
       "      <td>679.92</td>\n",
       "      <td>1627.0</td>\n",
       "    </tr>\n",
       "    <tr>\n",
       "      <th>2021-02-26 04:01:00</th>\n",
       "      <td>678.02</td>\n",
       "      <td>681.88</td>\n",
       "      <td>678.02</td>\n",
       "      <td>681.88</td>\n",
       "      <td>5013.0</td>\n",
       "    </tr>\n",
       "  </tbody>\n",
       "</table>\n",
       "<p>8492 rows × 5 columns</p>\n",
       "</div>"
      ],
      "text/plain": [
       "                     1. open  2. high  3. low  4. close  5. volume\n",
       "date                                                              \n",
       "2021-03-11 20:00:00   698.51   698.51  698.50    698.50     3932.0\n",
       "2021-03-11 19:59:00   698.00   698.52  698.00    698.52     4031.0\n",
       "2021-03-11 19:58:00   698.50   698.51  698.30    698.51     1493.0\n",
       "2021-03-11 19:57:00   698.50   698.51  698.30    698.30     3824.0\n",
       "2021-03-11 19:56:00   698.00   698.50  698.00    698.50     3040.0\n",
       "...                      ...      ...     ...       ...        ...\n",
       "2021-02-26 04:05:00   680.00   680.00  680.00    680.00     3779.0\n",
       "2021-02-26 04:04:00   679.21   680.00  679.21    680.00     3665.0\n",
       "2021-02-26 04:03:00   679.00   679.00  678.99    679.00     1873.0\n",
       "2021-02-26 04:02:00   680.00   680.00  679.89    679.92     1627.0\n",
       "2021-02-26 04:01:00   678.02   681.88  678.02    681.88     5013.0\n",
       "\n",
       "[8492 rows x 5 columns]"
      ]
     },
     "execution_count": 11,
     "metadata": {},
     "output_type": "execute_result"
    }
   ],
   "source": [
    "pd.set_option('display.max_rows', 10)\n",
    "data"
   ]
  },
  {
   "cell_type": "code",
   "execution_count": 12,
   "metadata": {},
   "outputs": [
    {
     "data": {
      "text/plain": [
       "[<matplotlib.lines.Line2D at 0x21b6ff44610>]"
      ]
     },
     "execution_count": 12,
     "metadata": {},
     "output_type": "execute_result"
    },
    {
     "data": {
      "image/png": "[encoded data removed]",
      "text/plain": [
       "<Figure size 432x288 with 1 Axes>"
      ]
     },
     "metadata": {
      "needs_background": "light"
     },
     "output_type": "display_data"
    }
   ],
   "source": [
    "plt.plot(data['4. close'])"
   ]
  },
  {
   "cell_type": "code",
   "execution_count": 13,
   "metadata": {},
   "outputs": [
    {
     "ename": "TypeError",
     "evalue": "get_daily() got an unexpected keyword argument 'interval'",
     "output_type": "error",
     "traceback": [
      "\u001b[1;31m---------------------------------------------------------------------------\u001b[0m",
      "\u001b[1;31mTypeError\u001b[0m                                 Traceback (most recent call last)",
      "\u001b[1;32m<ipython-input-13-0e06fd3e6055>\u001b[0m in \u001b[0;36m<module>\u001b[1;34m\u001b[0m\n\u001b[1;32m----> 1\u001b[1;33m \u001b[0mdata\u001b[0m\u001b[1;33m,\u001b[0m\u001b[0mmeta\u001b[0m \u001b[1;33m=\u001b[0m \u001b[0mts\u001b[0m\u001b[1;33m.\u001b[0m\u001b[0mget_daily\u001b[0m\u001b[1;33m(\u001b[0m\u001b[1;34m\"BSE:PIIND\"\u001b[0m\u001b[1;33m,\u001b[0m\u001b[0minterval\u001b[0m\u001b[1;33m=\u001b[0m\u001b[1;34m\"1min\"\u001b[0m\u001b[1;33m,\u001b[0m\u001b[0moutputsize\u001b[0m\u001b[1;33m=\u001b[0m\u001b[1;34m\"full\"\u001b[0m\u001b[1;33m)\u001b[0m\u001b[1;33m\u001b[0m\u001b[1;33m\u001b[0m\u001b[0m\n\u001b[0m",
      "\u001b[1;32m~\\anaconda3\\lib\\site-packages\\alpha_vantage\\alphavantage.py\u001b[0m in \u001b[0;36m_format_wrapper\u001b[1;34m(self, *args, **kwargs)\u001b[0m\n\u001b[0;32m    216\u001b[0m         \u001b[1;33m@\u001b[0m\u001b[0mwraps\u001b[0m\u001b[1;33m(\u001b[0m\u001b[0mfunc\u001b[0m\u001b[1;33m)\u001b[0m\u001b[1;33m\u001b[0m\u001b[1;33m\u001b[0m\u001b[0m\n\u001b[0;32m    217\u001b[0m         \u001b[1;32mdef\u001b[0m \u001b[0m_format_wrapper\u001b[0m\u001b[1;33m(\u001b[0m\u001b[0mself\u001b[0m\u001b[1;33m,\u001b[0m \u001b[1;33m*\u001b[0m\u001b[0margs\u001b[0m\u001b[1;33m,\u001b[0m \u001b[1;33m**\u001b[0m\u001b[0mkwargs\u001b[0m\u001b[1;33m)\u001b[0m\u001b[1;33m:\u001b[0m\u001b[1;33m\u001b[0m\u001b[1;33m\u001b[0m\u001b[0m\n\u001b[1;32m--> 218\u001b[1;33m             call_response, data_key, meta_data_key = func(\n\u001b[0m\u001b[0;32m    219\u001b[0m                 self, *args, **kwargs)\n\u001b[0;32m    220\u001b[0m             \u001b[1;32mif\u001b[0m \u001b[1;34m'json'\u001b[0m \u001b[1;32min\u001b[0m \u001b[0mself\u001b[0m\u001b[1;33m.\u001b[0m\u001b[0moutput_format\u001b[0m\u001b[1;33m.\u001b[0m\u001b[0mlower\u001b[0m\u001b[1;33m(\u001b[0m\u001b[1;33m)\u001b[0m \u001b[1;32mor\u001b[0m \u001b[1;34m'pandas'\u001b[0m\u001b[0;31m \u001b[0m\u001b[0;31m\\\u001b[0m\u001b[1;33m\u001b[0m\u001b[1;33m\u001b[0m\u001b[0m\n",
      "\u001b[1;32m~\\anaconda3\\lib\\site-packages\\alpha_vantage\\alphavantage.py\u001b[0m in \u001b[0;36m_call_wrapper\u001b[1;34m(self, *args, **kwargs)\u001b[0m\n\u001b[0;32m    120\u001b[0m             \u001b[1;31m# the function name defined in the alpha vantage api and the data\u001b[0m\u001b[1;33m\u001b[0m\u001b[1;33m\u001b[0m\u001b[1;33m\u001b[0m\u001b[0m\n\u001b[0;32m    121\u001b[0m             \u001b[1;31m# key for it and for its meta data.\u001b[0m\u001b[1;33m\u001b[0m\u001b[1;33m\u001b[0m\u001b[1;33m\u001b[0m\u001b[0m\n\u001b[1;32m--> 122\u001b[1;33m             function_name, data_key, meta_data_key = func(\n\u001b[0m\u001b[0;32m    123\u001b[0m                 self, *args, **kwargs)\n\u001b[0;32m    124\u001b[0m             \u001b[0mbase_url\u001b[0m \u001b[1;33m=\u001b[0m \u001b[0mAlphaVantage\u001b[0m\u001b[1;33m.\u001b[0m\u001b[0m_RAPIDAPI_URL\u001b[0m \u001b[1;32mif\u001b[0m \u001b[0mself\u001b[0m\u001b[1;33m.\u001b[0m\u001b[0mrapidapi\u001b[0m \u001b[1;32melse\u001b[0m \u001b[0mAlphaVantage\u001b[0m\u001b[1;33m.\u001b[0m\u001b[0m_ALPHA_VANTAGE_API_URL\u001b[0m\u001b[1;33m\u001b[0m\u001b[1;33m\u001b[0m\u001b[0m\n",
      "\u001b[1;31mTypeError\u001b[0m: get_daily() got an unexpected keyword argument 'interval'"
     ]
    }
   ],
   "source": [
    "data,meta = ts.get_daily(\"BSE:PIIND\",interval=\"1min\",outputsize=\"full\")"
   ]
  },
  {
   "cell_type": "code",
   "execution_count": 14,
   "metadata": {},
   "outputs": [
    {
     "name": "stdout",
     "output_type": "stream",
     "text": [
      "[*********************100%***********************]  1 of 1 completed\n"
     ]
    }
   ],
   "source": [
    "# TIME_SERIES_DAILY_ADJUSTED\n",
    "import yfinance as yf\n",
    "df = yf.download('MSFT', start='2019-01-01', end='2020-05-30')['Adj Close']\n"
   ]
  },
  {
   "cell_type": "code",
   "execution_count": 15,
   "metadata": {},
   "outputs": [
    {
     "data": {
      "text/plain": [
       "Date\n",
       "2018-12-31     98.813278\n",
       "2019-01-02     98.375481\n",
       "2019-01-03     94.756454\n",
       "2019-01-04     99.163513\n",
       "2019-01-07     99.289970\n",
       "                 ...    \n",
       "2020-05-22    182.169861\n",
       "2020-05-26    180.244049\n",
       "2020-05-27    180.482285\n",
       "2020-05-28    180.075272\n",
       "2020-05-29    181.911774\n",
       "Name: Adj Close, Length: 356, dtype: float64"
      ]
     },
     "execution_count": 15,
     "metadata": {},
     "output_type": "execute_result"
    }
   ],
   "source": [
    "df"
   ]
  },
  {
   "cell_type": "code",
   "execution_count": 16,
   "metadata": {},
   "outputs": [],
   "source": [
    "import pandas_datareader as pdr\n",
    "df = pdr.get_data_tiingo('MSFT', start='2019-01-01', end='2020-05-30', api_key='6fe289c96c8143ae835bf372038c3dc4e502d592')['adjClose']"
   ]
  },
  {
   "cell_type": "code",
   "execution_count": 17,
   "metadata": {},
   "outputs": [
    {
     "data": {
      "text/plain": [
       "symbol  date                     \n",
       "MSFT    2019-01-02 00:00:00+00:00     98.368274\n",
       "        2019-01-03 00:00:00+00:00     94.749504\n",
       "        2019-01-04 00:00:00+00:00     99.156232\n",
       "        2019-01-07 00:00:00+00:00     99.282694\n",
       "        2019-01-08 00:00:00+00:00    100.002557\n",
       "                                        ...    \n",
       "        2020-05-22 00:00:00+00:00    182.162652\n",
       "        2020-05-26 00:00:00+00:00    180.236896\n",
       "        2020-05-27 00:00:00+00:00    180.475134\n",
       "        2020-05-28 00:00:00+00:00    180.068144\n",
       "        2020-05-29 00:00:00+00:00    181.904561\n",
       "Name: adjClose, Length: 355, dtype: float64"
      ]
     },
     "execution_count": 17,
     "metadata": {},
     "output_type": "execute_result"
    }
   ],
   "source": [
    "df"
   ]
  },
  {
   "cell_type": "code",
   "execution_count": 10,
   "metadata": {},
   "outputs": [
    {
     "name": "stdout",
     "output_type": "stream",
     "text": [
      "{'52WeekChange': 0.75107074,\n",
      " 'SandP52WeekChange': 0.65093267,\n",
      " 'address1': 'One Microsoft Way',\n",
      " 'algorithm': None,\n",
      " 'annualHoldingsTurnover': None,\n",
      " 'annualReportExpenseRatio': None,\n",
      " 'ask': 235.99,\n",
      " 'askSize': 1300,\n",
      " 'averageDailyVolume10Day': 35469371,\n",
      " 'averageVolume': 29795406,\n",
      " 'averageVolume10days': 35469371,\n",
      " 'beta': 0.812567,\n",
      " 'beta3Year': None,\n",
      " 'bid': 235.75,\n",
      " 'bidSize': 1200,\n",
      " 'bookValue': 17.259,\n",
      " 'category': None,\n",
      " 'circulatingSupply': None,\n",
      " 'city': 'Redmond',\n",
      " 'companyOfficers': [],\n",
      " 'country': 'United States',\n",
      " 'currency': 'USD',\n",
      " 'dateShortInterest': 1614297600,\n",
      " 'dayHigh': 235.82,\n",
      " 'dayLow': 233.23,\n",
      " 'dividendRate': 2.24,\n",
      " 'dividendYield': 0.0094,\n",
      " 'earningsQuarterlyGrowth': 0.327,\n",
      " 'enterpriseToEbitda': 24.262,\n",
      " 'enterpriseToRevenue': 11.347,\n",
      " 'enterpriseValue': 1739278647296,\n",
      " 'exDividendDate': 1613520000,\n",
      " 'exchange': 'NMS',\n",
      " 'exchangeTimezoneName': 'America/New_York',\n",
      " 'exchangeTimezoneShortName': 'EST',\n",
      " 'expireDate': None,\n",
      " 'fiftyDayAverage': 236.47911,\n",
      " 'fiftyTwoWeekHigh': 246.13,\n",
      " 'fiftyTwoWeekLow': 132.52,\n",
      " 'fiveYearAverageReturn': None,\n",
      " 'fiveYearAvgDividendYield': 1.68,\n",
      " 'floatShares': 7431118929,\n",
      " 'forwardEps': 8.09,\n",
      " 'forwardPE': 29.140915,\n",
      " 'fromCurrency': None,\n",
      " 'fullTimeEmployees': 163000,\n",
      " 'fundFamily': None,\n",
      " 'fundInceptionDate': None,\n",
      " 'gmtOffSetMilliseconds': '-18000000',\n",
      " 'heldPercentInsiders': 0.00059,\n",
      " 'heldPercentInstitutions': 0.71844,\n",
      " 'impliedSharesOutstanding': None,\n",
      " 'industry': 'Software—Infrastructure',\n",
      " 'isEsgPopulated': False,\n",
      " 'lastCapGain': None,\n",
      " 'lastDividendDate': 1613520000,\n",
      " 'lastDividendValue': 0.56,\n",
      " 'lastFiscalYearEnd': 1593475200,\n",
      " 'lastMarket': None,\n",
      " 'lastSplitDate': 1045526400,\n",
      " 'lastSplitFactor': '2:1',\n",
      " 'legalType': None,\n",
      " 'logo_url': 'https://logo.clearbit.com/microsoft.com',\n",
      " 'longBusinessSummary': 'Microsoft Corporation develops, licenses, and '\n",
      "                        'supports software, services, devices, and solutions '\n",
      "                        'worldwide. Its Productivity and Business Processes '\n",
      "                        'segment offers Office, Exchange, SharePoint, '\n",
      "                        'Microsoft Teams, Office 365 Security and Compliance, '\n",
      "                        'and Skype for Business, as well as related Client '\n",
      "                        'Access Licenses (CAL); Skype, Outlook.com, OneDrive, '\n",
      "                        'and LinkedIn; and Dynamics 365, a set of cloud-based '\n",
      "                        'and on-premises business solutions for small and '\n",
      "                        'medium businesses, large organizations, and divisions '\n",
      "                        'of enterprises. Its Intelligent Cloud segment '\n",
      "                        'licenses SQL and Windows Servers, Visual Studio, '\n",
      "                        'System Center, and related CALs; GitHub that provides '\n",
      "                        'a collaboration platform and code hosting service for '\n",
      "                        'developers; and Azure, a cloud platform. It also '\n",
      "                        'offers support services and Microsoft consulting '\n",
      "                        'services to assist customers in developing, '\n",
      "                        'deploying, and managing Microsoft server and desktop '\n",
      "                        'solutions; and training and certification to '\n",
      "                        'developers and IT professionals on various Microsoft '\n",
      "                        'products. Its More Personal Computing segment '\n",
      "                        'provides Windows original equipment manufacturer '\n",
      "                        '(OEM) licensing and other non-volume licensing of the '\n",
      "                        'Windows operating system; Windows Commercial, such as '\n",
      "                        'volume licensing of the Windows operating system, '\n",
      "                        'Windows cloud services, and other Windows commercial '\n",
      "                        'offerings; patent licensing; Windows Internet of '\n",
      "                        'Things; and MSN advertising. It also offers Surface, '\n",
      "                        'PC accessories, PCs, tablets, gaming and '\n",
      "                        'entertainment consoles, and other devices; Gaming, '\n",
      "                        'including Xbox hardware, and Xbox content and '\n",
      "                        'services; video games and third-party video game '\n",
      "                        'royalties; and Search, including Bing and Microsoft '\n",
      "                        'advertising. It sells its products through OEMs, '\n",
      "                        'distributors, and resellers; and directly through '\n",
      "                        'digital marketplaces, online stores, and retail '\n",
      "                        'stores. It has a strategic collaboration with DXC '\n",
      "                        'Technology. The company was founded in 1975 and is '\n",
      "                        'headquartered in Redmond, Washington.',\n",
      " 'longName': 'Microsoft Corporation',\n",
      " 'market': 'us_market',\n",
      " 'marketCap': 1778078318592,\n",
      " 'maxAge': 1,\n",
      " 'maxSupply': None,\n",
      " 'messageBoardId': 'finmb_21835',\n",
      " 'morningStarOverallRating': None,\n",
      " 'morningStarRiskRating': None,\n",
      " 'mostRecentQuarter': 1609372800,\n",
      " 'navPrice': None,\n",
      " 'netIncomeToCommon': 51309998080,\n",
      " 'nextFiscalYearEnd': 1656547200,\n",
      " 'open': 234.01,\n",
      " 'openInterest': None,\n",
      " 'payoutRatio': 0.31149998,\n",
      " 'pegRatio': 1.82,\n",
      " 'phone': '425-882-8080',\n",
      " 'previousClose': 237.13,\n",
      " 'priceHint': 2,\n",
      " 'priceToBook': 13.659539,\n",
      " 'priceToSalesTrailing12Months': 11.599895,\n",
      " 'profitMargins': 0.33473998,\n",
      " 'quoteType': 'EQUITY',\n",
      " 'regularMarketDayHigh': 235.82,\n",
      " 'regularMarketDayLow': 233.23,\n",
      " 'regularMarketOpen': 234.01,\n",
      " 'regularMarketPreviousClose': 237.13,\n",
      " 'regularMarketPrice': 234.01,\n",
      " 'regularMarketVolume': 22653662,\n",
      " 'revenueQuarterlyGrowth': None,\n",
      " 'sector': 'Technology',\n",
      " 'sharesOutstanding': 7560500224,\n",
      " 'sharesPercentSharesOut': 0.0055,\n",
      " 'sharesShort': 41632106,\n",
      " 'sharesShortPreviousMonthDate': 1611878400,\n",
      " 'sharesShortPriorMonth': 44533174,\n",
      " 'shortName': 'Microsoft Corporation',\n",
      " 'shortPercentOfFloat': 0.0055,\n",
      " 'shortRatio': 1.36,\n",
      " 'startDate': None,\n",
      " 'state': 'WA',\n",
      " 'strikePrice': None,\n",
      " 'symbol': 'MSFT',\n",
      " 'threeYearAverageReturn': None,\n",
      " 'toCurrency': None,\n",
      " 'totalAssets': None,\n",
      " 'tradeable': False,\n",
      " 'trailingAnnualDividendRate': 2.14,\n",
      " 'trailingAnnualDividendYield': 0.009024586,\n",
      " 'trailingEps': 6.707,\n",
      " 'trailingPE': 35.149845,\n",
      " 'twoHundredDayAverage': 219.93701,\n",
      " 'volume': 22653662,\n",
      " 'volume24Hr': None,\n",
      " 'volumeAllCurrencies': None,\n",
      " 'website': 'http://www.microsoft.com',\n",
      " 'yield': None,\n",
      " 'ytdReturn': None,\n",
      " 'zip': '98052-6399'}\n"
     ]
    }
   ],
   "source": [
    "from pprint import pprint\n",
    "import yfinance as yf\n",
    "msft = yf.Ticker(\"MSFT\")\n",
    "msft = yf.Ticker(\"MSFT\")\n",
    "\n",
    "# get stock info\n",
    "pprint(msft.info)\n",
    "\n"
   ]
  },
  {
   "cell_type": "code",
   "execution_count": 5,
   "metadata": {},
   "outputs": [
    {
     "name": "stdout",
     "output_type": "stream",
     "text": [
      "            Dividends  Stock Splits\n",
      "Date                               \n",
      "1987-09-21       0.00           2.0\n",
      "1990-04-16       0.00           2.0\n",
      "1991-06-27       0.00           1.5\n",
      "1992-06-15       0.00           1.5\n",
      "1994-05-23       0.00           2.0\n",
      "...               ...           ...\n",
      "2020-02-19       0.51           0.0\n",
      "2020-05-20       0.51           0.0\n",
      "2020-08-19       0.51           0.0\n",
      "2020-11-18       0.56           0.0\n",
      "2021-02-17       0.56           0.0\n",
      "\n",
      "[78 rows x 2 columns]\n"
     ]
    }
   ],
   "source": [
    "# show actions (dividends, splits)\n",
    "print(msft.actions)\n"
   ]
  },
  {
   "cell_type": "code",
   "execution_count": 7,
   "metadata": {},
   "outputs": [
    {
     "name": "stdout",
     "output_type": "stream",
     "text": [
      "Date\n",
      "2003-02-19    0.08\n",
      "2003-10-15    0.16\n",
      "2004-08-23    0.08\n",
      "2004-11-15    3.08\n",
      "2005-02-15    0.08\n",
      "              ... \n",
      "2020-02-19    0.51\n",
      "2020-05-20    0.51\n",
      "2020-08-19    0.51\n",
      "2020-11-18    0.56\n",
      "2021-02-17    0.56\n",
      "Name: Dividends, Length: 69, dtype: float64\n"
     ]
    }
   ],
   "source": [
    "# show dividends\n",
    "print(msft.dividends)"
   ]
  },
  {
   "cell_type": "code",
   "execution_count": 8,
   "metadata": {},
   "outputs": [
    {
     "name": "stdout",
     "output_type": "stream",
     "text": [
      "Date\n",
      "1987-09-21    2.0\n",
      "1990-04-16    2.0\n",
      "1991-06-27    1.5\n",
      "1992-06-15    1.5\n",
      "1994-05-23    2.0\n",
      "1996-12-09    2.0\n",
      "1998-02-23    2.0\n",
      "1999-03-29    2.0\n",
      "2003-02-18    2.0\n",
      "Name: Stock Splits, dtype: float64\n"
     ]
    }
   ],
   "source": [
    "# show splits\n",
    "print(msft.splits)"
   ]
  },
  {
   "cell_type": "code",
   "execution_count": null,
   "metadata": {},
   "outputs": [],
   "source": []
  }
 ],
 "metadata": {
  "kernelspec": {
   "display_name": "Python 3",
   "language": "python",
   "name": "python3"
  },
  "language_info": {
   "codemirror_mode": {
    "name": "ipython",
    "version": 3
   },
   "file_extension": ".py",
   "mimetype": "text/x-python",
   "name": "python",
   "nbconvert_exporter": "python",
   "pygments_lexer": "ipython3",
   "version": "3.8.5"
  }
 },
 "nbformat": 4,
 "nbformat_minor": 4
}
