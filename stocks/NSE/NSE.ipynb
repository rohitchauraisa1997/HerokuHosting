{
 "cells": [
  {
   "cell_type": "code",
   "execution_count": 1,
   "metadata": {},
   "outputs": [],
   "source": [
    "dict1 = {'pricebandupper': '2,379.70', 'symbol': 'PIIND', 'applicableMargin': '18.08', 'bcEndDate': '-', 'totalSellQuantity': '16,354', 'adhocMargin': '-', 'companyName': 'PI Industries Limited', 'marketType': 'N', 'exDate': '11-FEB-21', 'bcStartDate': '-', 'css_status_desc': 'Listed', 'dayHigh': '2,305.50', 'basePrice': '2,163.40', 'securityVar': '14.58', 'pricebandlower': '1,947.10', 'sellQuantity5': '34', 'sellQuantity4': '205', 'sellQuantity3': '16', 'cm_adj_high_dt': '08-DEC-20', 'sellQuantity2': '5', 'dayLow': '2,123.00', 'sellQuantity1': '256', 'quantityTraded': '2,45,070', 'pChange': '6.31', 'totalTradedValue': '11,705.73', 'deliveryToTradedQuantity': '52.76', 'totalBuyQuantity': '22,306', 'averagePrice': '2,248.01', 'indexVar': '-', 'cm_ffm': '17,395.49', 'purpose': 'INTERIM DIVIDEND - RS 3 PER SHARE', 'buyPrice2': '2,293.00', 'secDate': '19-Mar-2021 15:00:00', 'buyPrice1': '2,294.00', 'high52': '2,650.00', 'previousClose': '2,163.40', 'ndEndDate': '-', 'low52': '970.10', 'buyPrice4': '2,290.25', 'buyPrice3': '2,291.00', 'recordDate': '12-FEB-21', 'deliveryQuantity': '1,29,289', 'buyPrice5': '2,290.00', 'priceBand': 'No Band', 'extremeLossMargin': '3.50', 'cm_adj_low_dt': '25-MAR-20', 'varMargin': '14.58', 'sellPrice1': '2,300.00', 'sellPrice2': '2,300.95', 'totalTradedVolume': '5,20,715', 'sellPrice3': '2,302.55', 'sellPrice4': '2,302.90', 'sellPrice5': '2,303.00', 'change': \n",
    "'136.60', 'surv_indicator': '-', 'ndStartDate': '-', 'buyQuantity4': '170', 'isExDateFlag': False, 'buyQuantity3': '16', 'buyQuantity2': '1', 'buyQuantity1': '158', 'series': 'EQ', 'faceValue': '1.00', 'buyQuantity5': '20', 'closePrice': '0.00', 'open': '2,145.00', 'isinCode': 'INE603J01030', 'lastPrice': '2,300.00'}"
   ]
  },
  {
   "cell_type": "code",
   "execution_count": 2,
   "metadata": {},
   "outputs": [
    {
     "data": {
      "text/plain": [
       "{'pricebandupper': '2,379.70',\n",
       " 'symbol': 'PIIND',\n",
       " 'applicableMargin': '18.08',\n",
       " 'bcEndDate': '-',\n",
       " 'totalSellQuantity': '16,354',\n",
       " 'adhocMargin': '-',\n",
       " 'companyName': 'PI Industries Limited',\n",
       " 'marketType': 'N',\n",
       " 'exDate': '11-FEB-21',\n",
       " 'bcStartDate': '-',\n",
       " 'css_status_desc': 'Listed',\n",
       " 'dayHigh': '2,305.50',\n",
       " 'basePrice': '2,163.40',\n",
       " 'securityVar': '14.58',\n",
       " 'pricebandlower': '1,947.10',\n",
       " 'sellQuantity5': '34',\n",
       " 'sellQuantity4': '205',\n",
       " 'sellQuantity3': '16',\n",
       " 'cm_adj_high_dt': '08-DEC-20',\n",
       " 'sellQuantity2': '5',\n",
       " 'dayLow': '2,123.00',\n",
       " 'sellQuantity1': '256',\n",
       " 'quantityTraded': '2,45,070',\n",
       " 'pChange': '6.31',\n",
       " 'totalTradedValue': '11,705.73',\n",
       " 'deliveryToTradedQuantity': '52.76',\n",
       " 'totalBuyQuantity': '22,306',\n",
       " 'averagePrice': '2,248.01',\n",
       " 'indexVar': '-',\n",
       " 'cm_ffm': '17,395.49',\n",
       " 'purpose': 'INTERIM DIVIDEND - RS 3 PER SHARE',\n",
       " 'buyPrice2': '2,293.00',\n",
       " 'secDate': '19-Mar-2021 15:00:00',\n",
       " 'buyPrice1': '2,294.00',\n",
       " 'high52': '2,650.00',\n",
       " 'previousClose': '2,163.40',\n",
       " 'ndEndDate': '-',\n",
       " 'low52': '970.10',\n",
       " 'buyPrice4': '2,290.25',\n",
       " 'buyPrice3': '2,291.00',\n",
       " 'recordDate': '12-FEB-21',\n",
       " 'deliveryQuantity': '1,29,289',\n",
       " 'buyPrice5': '2,290.00',\n",
       " 'priceBand': 'No Band',\n",
       " 'extremeLossMargin': '3.50',\n",
       " 'cm_adj_low_dt': '25-MAR-20',\n",
       " 'varMargin': '14.58',\n",
       " 'sellPrice1': '2,300.00',\n",
       " 'sellPrice2': '2,300.95',\n",
       " 'totalTradedVolume': '5,20,715',\n",
       " 'sellPrice3': '2,302.55',\n",
       " 'sellPrice4': '2,302.90',\n",
       " 'sellPrice5': '2,303.00',\n",
       " 'change': '136.60',\n",
       " 'surv_indicator': '-',\n",
       " 'ndStartDate': '-',\n",
       " 'buyQuantity4': '170',\n",
       " 'isExDateFlag': False,\n",
       " 'buyQuantity3': '16',\n",
       " 'buyQuantity2': '1',\n",
       " 'buyQuantity1': '158',\n",
       " 'series': 'EQ',\n",
       " 'faceValue': '1.00',\n",
       " 'buyQuantity5': '20',\n",
       " 'closePrice': '0.00',\n",
       " 'open': '2,145.00',\n",
       " 'isinCode': 'INE603J01030',\n",
       " 'lastPrice': '2,300.00'}"
      ]
     },
     "execution_count": 2,
     "metadata": {},
     "output_type": "execute_result"
    }
   ],
   "source": [
    "dict1"
   ]
  },
  {
   "cell_type": "code",
   "execution_count": 3,
   "metadata": {},
   "outputs": [],
   "source": [
    "tup = tuple()\n",
    "for key,value in dict1.items():\n",
    "    tup += ((key,value))"
   ]
  },
  {
   "cell_type": "code",
   "execution_count": 4,
   "metadata": {},
   "outputs": [
    {
     "data": {
      "text/plain": [
       "('pricebandupper',\n",
       " '2,379.70',\n",
       " 'symbol',\n",
       " 'PIIND',\n",
       " 'applicableMargin',\n",
       " '18.08',\n",
       " 'bcEndDate',\n",
       " '-',\n",
       " 'totalSellQuantity',\n",
       " '16,354',\n",
       " 'adhocMargin',\n",
       " '-',\n",
       " 'companyName',\n",
       " 'PI Industries Limited',\n",
       " 'marketType',\n",
       " 'N',\n",
       " 'exDate',\n",
       " '11-FEB-21',\n",
       " 'bcStartDate',\n",
       " '-',\n",
       " 'css_status_desc',\n",
       " 'Listed',\n",
       " 'dayHigh',\n",
       " '2,305.50',\n",
       " 'basePrice',\n",
       " '2,163.40',\n",
       " 'securityVar',\n",
       " '14.58',\n",
       " 'pricebandlower',\n",
       " '1,947.10',\n",
       " 'sellQuantity5',\n",
       " '34',\n",
       " 'sellQuantity4',\n",
       " '205',\n",
       " 'sellQuantity3',\n",
       " '16',\n",
       " 'cm_adj_high_dt',\n",
       " '08-DEC-20',\n",
       " 'sellQuantity2',\n",
       " '5',\n",
       " 'dayLow',\n",
       " '2,123.00',\n",
       " 'sellQuantity1',\n",
       " '256',\n",
       " 'quantityTraded',\n",
       " '2,45,070',\n",
       " 'pChange',\n",
       " '6.31',\n",
       " 'totalTradedValue',\n",
       " '11,705.73',\n",
       " 'deliveryToTradedQuantity',\n",
       " '52.76',\n",
       " 'totalBuyQuantity',\n",
       " '22,306',\n",
       " 'averagePrice',\n",
       " '2,248.01',\n",
       " 'indexVar',\n",
       " '-',\n",
       " 'cm_ffm',\n",
       " '17,395.49',\n",
       " 'purpose',\n",
       " 'INTERIM DIVIDEND - RS 3 PER SHARE',\n",
       " 'buyPrice2',\n",
       " '2,293.00',\n",
       " 'secDate',\n",
       " '19-Mar-2021 15:00:00',\n",
       " 'buyPrice1',\n",
       " '2,294.00',\n",
       " 'high52',\n",
       " '2,650.00',\n",
       " 'previousClose',\n",
       " '2,163.40',\n",
       " 'ndEndDate',\n",
       " '-',\n",
       " 'low52',\n",
       " '970.10',\n",
       " 'buyPrice4',\n",
       " '2,290.25',\n",
       " 'buyPrice3',\n",
       " '2,291.00',\n",
       " 'recordDate',\n",
       " '12-FEB-21',\n",
       " 'deliveryQuantity',\n",
       " '1,29,289',\n",
       " 'buyPrice5',\n",
       " '2,290.00',\n",
       " 'priceBand',\n",
       " 'No Band',\n",
       " 'extremeLossMargin',\n",
       " '3.50',\n",
       " 'cm_adj_low_dt',\n",
       " '25-MAR-20',\n",
       " 'varMargin',\n",
       " '14.58',\n",
       " 'sellPrice1',\n",
       " '2,300.00',\n",
       " 'sellPrice2',\n",
       " '2,300.95',\n",
       " 'totalTradedVolume',\n",
       " '5,20,715',\n",
       " 'sellPrice3',\n",
       " '2,302.55',\n",
       " 'sellPrice4',\n",
       " '2,302.90',\n",
       " 'sellPrice5',\n",
       " '2,303.00',\n",
       " 'change',\n",
       " '136.60',\n",
       " 'surv_indicator',\n",
       " '-',\n",
       " 'ndStartDate',\n",
       " '-',\n",
       " 'buyQuantity4',\n",
       " '170',\n",
       " 'isExDateFlag',\n",
       " False,\n",
       " 'buyQuantity3',\n",
       " '16',\n",
       " 'buyQuantity2',\n",
       " '1',\n",
       " 'buyQuantity1',\n",
       " '158',\n",
       " 'series',\n",
       " 'EQ',\n",
       " 'faceValue',\n",
       " '1.00',\n",
       " 'buyQuantity5',\n",
       " '20',\n",
       " 'closePrice',\n",
       " '0.00',\n",
       " 'open',\n",
       " '2,145.00',\n",
       " 'isinCode',\n",
       " 'INE603J01030',\n",
       " 'lastPrice',\n",
       " '2,300.00')"
      ]
     },
     "execution_count": 4,
     "metadata": {},
     "output_type": "execute_result"
    }
   ],
   "source": [
    "tup"
   ]
  },
  {
   "cell_type": "code",
   "execution_count": 5,
   "metadata": {},
   "outputs": [],
   "source": [
    "ans = str()\n",
    "for key,value in dict1.items():\n",
    "    ans += \"{}, \".format(str(value))"
   ]
  },
  {
   "cell_type": "code",
   "execution_count": 6,
   "metadata": {},
   "outputs": [
    {
     "data": {
      "text/plain": [
       "'2,379.70, PIIND, 18.08, -, 16,354, -, PI Industries Limited, N, 11-FEB-21, -, Listed, 2,305.50, 2,163.40, 14.58, 1,947.10, 34, 205, 16, 08-DEC-20, 5, 2,123.00, 256, 2,45,070, 6.31, 11,705.73, 52.76, 22,306, 2,248.01, -, 17,395.49, INTERIM DIVIDEND - RS 3 PER SHARE, 2,293.00, 19-Mar-2021 15:00:00, 2,294.00, 2,650.00, 2,163.40, -, 970.10, 2,290.25, 2,291.00, 12-FEB-21, 1,29,289, 2,290.00, No Band, 3.50, 25-MAR-20, 14.58, 2,300.00, 2,300.95, 5,20,715, 2,302.55, 2,302.90, 2,303.00, 136.60, -, -, 170, False, 16, 1, 158, EQ, 1.00, 20, 0.00, 2,145.00, INE603J01030, 2,300.00, '"
      ]
     },
     "execution_count": 6,
     "metadata": {},
     "output_type": "execute_result"
    }
   ],
   "source": [
    "ans"
   ]
  },
  {
   "cell_type": "code",
   "execution_count": 7,
   "metadata": {},
   "outputs": [
    {
     "name": "stdout",
     "output_type": "stream",
     "text": [
      "2,379.70\n",
      "PIIND\n",
      "18.08\n",
      "-\n",
      "16,354\n",
      "-\n",
      "PI Industries Limited\n",
      "N\n",
      "11-FEB-21\n",
      "-\n",
      "Listed\n",
      "2,305.50\n",
      "2,163.40\n",
      "14.58\n",
      "1,947.10\n",
      "34\n",
      "205\n",
      "16\n",
      "08-DEC-20\n",
      "5\n",
      "2,123.00\n",
      "256\n",
      "2,45,070\n",
      "6.31\n",
      "11,705.73\n",
      "52.76\n",
      "22,306\n",
      "2,248.01\n",
      "-\n",
      "17,395.49\n",
      "INTERIM DIVIDEND - RS 3 PER SHARE\n",
      "2,293.00\n",
      "19-Mar-2021 15:00:00\n",
      "2,294.00\n",
      "2,650.00\n",
      "2,163.40\n",
      "-\n",
      "970.10\n",
      "2,290.25\n",
      "2,291.00\n",
      "12-FEB-21\n",
      "1,29,289\n",
      "2,290.00\n",
      "No Band\n",
      "3.50\n",
      "25-MAR-20\n",
      "14.58\n",
      "2,300.00\n",
      "2,300.95\n",
      "5,20,715\n",
      "2,302.55\n",
      "2,302.90\n",
      "2,303.00\n",
      "136.60\n",
      "-\n",
      "-\n",
      "170\n",
      "False\n",
      "16\n",
      "1\n",
      "158\n",
      "EQ\n",
      "1.00\n",
      "20\n",
      "0.00\n",
      "2,145.00\n",
      "INE603J01030\n",
      "2,300.00\n"
     ]
    }
   ],
   "source": [
    "for value in dict1.values():\n",
    "    print(value)"
   ]
  },
  {
   "cell_type": "code",
   "execution_count": 8,
   "metadata": {},
   "outputs": [
    {
     "data": {
      "text/plain": [
       "['2,379.70',\n",
       " 'PIIND',\n",
       " '18.08',\n",
       " '-',\n",
       " '16,354',\n",
       " '-',\n",
       " 'PI Industries Limited',\n",
       " 'N',\n",
       " '11-FEB-21',\n",
       " '-',\n",
       " 'Listed',\n",
       " '2,305.50',\n",
       " '2,163.40',\n",
       " '14.58',\n",
       " '1,947.10',\n",
       " '34',\n",
       " '205',\n",
       " '16',\n",
       " '08-DEC-20',\n",
       " '5',\n",
       " '2,123.00',\n",
       " '256',\n",
       " '2,45,070',\n",
       " '6.31',\n",
       " '11,705.73',\n",
       " '52.76',\n",
       " '22,306',\n",
       " '2,248.01',\n",
       " '-',\n",
       " '17,395.49',\n",
       " 'INTERIM DIVIDEND - RS 3 PER SHARE',\n",
       " '2,293.00',\n",
       " '19-Mar-2021 15:00:00',\n",
       " '2,294.00',\n",
       " '2,650.00',\n",
       " '2,163.40',\n",
       " '-',\n",
       " '970.10',\n",
       " '2,290.25',\n",
       " '2,291.00',\n",
       " '12-FEB-21',\n",
       " '1,29,289',\n",
       " '2,290.00',\n",
       " 'No Band',\n",
       " '3.50',\n",
       " '25-MAR-20',\n",
       " '14.58',\n",
       " '2,300.00',\n",
       " '2,300.95',\n",
       " '5,20,715',\n",
       " '2,302.55',\n",
       " '2,302.90',\n",
       " '2,303.00',\n",
       " '136.60',\n",
       " '-',\n",
       " '-',\n",
       " '170',\n",
       " False,\n",
       " '16',\n",
       " '1',\n",
       " '158',\n",
       " 'EQ',\n",
       " '1.00',\n",
       " '20',\n",
       " '0.00',\n",
       " '2,145.00',\n",
       " 'INE603J01030',\n",
       " '2,300.00']"
      ]
     },
     "execution_count": 8,
     "metadata": {},
     "output_type": "execute_result"
    }
   ],
   "source": [
    "list(dict1.values())"
   ]
  },
  {
   "cell_type": "code",
   "execution_count": 23,
   "metadata": {},
   "outputs": [
    {
     "data": {
      "text/plain": [
       "3"
      ]
     },
     "execution_count": 23,
     "metadata": {},
     "output_type": "execute_result"
    }
   ],
   "source": [
    "tup = (1,2,3)\n",
    "len(tup)"
   ]
  },
  {
   "cell_type": "code",
   "execution_count": 24,
   "metadata": {},
   "outputs": [
    {
     "data": {
      "text/plain": [
       "68"
      ]
     },
     "execution_count": 24,
     "metadata": {},
     "output_type": "execute_result"
    }
   ],
   "source": [
    "len(['2,379.70', 'PIIND', '18.24', '-', '-', '-', 'PI Industries Limited', 'N', '11-FEB-21', '-', 'Listed', '2,305.50', '2,163.40', '14.74', '1,947.10', '-', '-', '-', '08-DEC-20', '-', '2,123.00', '-', '5,20,752', '6.31', '11,706.56', '58.21', '1,057', '2,248.01', '-', '18,324.21', 'INTERIM DIVIDEND - RS 3 PER SHARE', '-', '19-Mar-2021 00:00:00', '2,278.90', '2,650.00', '2,163.40', '-', '970.10', '-', '-', '12-FEB-21', '3,03,122', '-', 'No Band', '3.50', '25-MAR-20', '14.74', '-', '-', '5,20,752', '-', '-', '-', '136.60', '-', '-', '-', False, '-', '-', '1,057', 'EQ', '1.00', '-', '2,278.90', '2,145.00', 'INE603J01030', '2,300.00'])"
   ]
  },
  {
   "cell_type": "code",
   "execution_count": 27,
   "metadata": {},
   "outputs": [
    {
     "data": {
      "text/plain": [
       "(1,\n",
       " '2,379.70',\n",
       " 'PIIND',\n",
       " '18.24',\n",
       " '-',\n",
       " '-',\n",
       " '-',\n",
       " 'PI Industries Limited',\n",
       " 'N',\n",
       " '11-FEB-21',\n",
       " '-',\n",
       " 'Listed',\n",
       " '2,305.50',\n",
       " '2,163.40',\n",
       " '14.74',\n",
       " '1,947.10',\n",
       " '-',\n",
       " '-',\n",
       " '-',\n",
       " '08-DEC-20',\n",
       " '-',\n",
       " '2,123.00',\n",
       " '-',\n",
       " '5,20,752',\n",
       " '6.31',\n",
       " '11,706.56',\n",
       " '58.21',\n",
       " '1,057',\n",
       " '2,248.01',\n",
       " '-',\n",
       " '18,324.21',\n",
       " 'INTERIM DIVIDEND - RS 3 PER SHARE',\n",
       " '-',\n",
       " '19-Mar-2021 00:00:00',\n",
       " '2,278.90',\n",
       " '2,650.00',\n",
       " '2,163.40',\n",
       " '-',\n",
       " '970.10',\n",
       " '-',\n",
       " '-',\n",
       " '12-FEB-21',\n",
       " '3,03,122',\n",
       " '-',\n",
       " 'No Band',\n",
       " '3.50',\n",
       " '25-MAR-20',\n",
       " '14.74',\n",
       " '-',\n",
       " '-',\n",
       " '5,20,752',\n",
       " '-',\n",
       " '-',\n",
       " '-',\n",
       " '136.60',\n",
       " '-',\n",
       " '-',\n",
       " '-',\n",
       " False,\n",
       " '-',\n",
       " '-',\n",
       " '1,057',\n",
       " 'EQ',\n",
       " '1.00',\n",
       " '-',\n",
       " '2,278.90',\n",
       " '2,145.00',\n",
       " 'INE603J01030',\n",
       " '2,300.00')"
      ]
     },
     "execution_count": 27,
     "metadata": {},
     "output_type": "execute_result"
    }
   ],
   "source": [
    "list1 = ['2,379.70', 'PIIND', '18.24', '-', '-', '-', 'PI Industries Limited', 'N', '11-FEB-21', '-', 'Listed', '2,305.50', '2,163.40', '14.74', '1,947.10', '-', '-', '-', '08-DEC-20', '-', '2,123.00', '-', '5,20,752', '6.31', '11,706.56', '58.21', '1,057', '2,248.01', '-', '18,324.21', 'INTERIM DIVIDEND - RS 3 PER SHARE', '-', '19-Mar-2021 00:00:00', '2,278.90', '2,650.00', '2,163.40', '-', '970.10', '-', '-', '12-FEB-21', '3,03,122', '-', 'No Band', '3.50', '25-MAR-20', '14.74', '-', '-', '5,20,752', '-', '-', '-', '136.60', '-', '-', '-', False, '-', '-', '1,057', 'EQ', '1.00', '-', '2,278.90', '2,145.00', 'INE603J01030', '2,300.00'] \n",
    "list1.insert(0,1)\n",
    "tuple(list1)"
   ]
  },
  {
   "cell_type": "code",
   "execution_count": 28,
   "metadata": {},
   "outputs": [
    {
     "data": {
      "text/plain": [
       "69"
      ]
     },
     "execution_count": 28,
     "metadata": {},
     "output_type": "execute_result"
    }
   ],
   "source": [
    "tup = (0, '2,379.70', 'PIIND', '18.24', '-', '-', '-', 'PI Industries Limited', 'N', '11-FEB-21', '-', 'Listed', '2,305.50', '2,163.40', '14.74', '1,947.10', '-', '-', '-', '08-DEC-20', '-', '2,123.00', '-', '5,20,752', '6.31', '11,706.56', '58.21', '1,057', '2,248.01', '-', '18,324.21', 'INTERIM DIVIDEND - RS 3 PER SHARE', '-', '19-Mar-2021 00:00:00', '2,278.90', '2,650.00', '2,163.40', '-', '970.10', \n",
    "'-', '-', '12-FEB-21', '3,03,122', '-', 'No Band', '3.50', '25-MAR-20', '14.74', '-', '-', '5,20,752', '-', '-', '-', '136.60', '-', '-', '-', False, '-', '-', '1,057', 'EQ', '1.00', '-', '2,278.90', \n",
    "'2,145.00', 'INE603J01030', '2,300.00')\n",
    "len(tup)"
   ]
  },
  {
   "cell_type": "code",
   "execution_count": 29,
   "metadata": {},
   "outputs": [
    {
     "data": {
      "text/plain": [
       "69"
      ]
     },
     "execution_count": 29,
     "metadata": {},
     "output_type": "execute_result"
    }
   ],
   "source": [
    "new_tup = ('?', '?', '?', '?', '?', '?', '?', '?', '?', '?', '?', '?', '?', '?', '?', '?', '?', '?', '?', '?', '?', '?', '?', '?', '?', '?', '?', '?', '?', '?', '?', '?', '?', '?', '?', '?', '?', '?', '?', '?', '?', '?', '?', '?', '?', '?', '?', '?', '?', '?', '?', '?', '?', '?', '?', '?', '?', '?', '?', '?', '?', '?', '?', '?', '?', '?', '?', '?', '?', )\n",
    "len(new_tup)"
   ]
  },
  {
   "cell_type": "code",
   "execution_count": null,
   "metadata": {},
   "outputs": [],
   "source": []
  }
 ],
 "metadata": {
  "kernelspec": {
   "display_name": "Python 3",
   "language": "python",
   "name": "python3"
  },
  "language_info": {
   "codemirror_mode": {
    "name": "ipython",
    "version": 3
   },
   "file_extension": ".py",
   "mimetype": "text/x-python",
   "name": "python",
   "nbconvert_exporter": "python",
   "pygments_lexer": "ipython3",
   "version": "3.8.5"
  }
 },
 "nbformat": 4,
 "nbformat_minor": 4
}
